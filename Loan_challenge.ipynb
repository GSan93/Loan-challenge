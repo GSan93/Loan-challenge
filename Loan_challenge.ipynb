{
  "nbformat": 4,
  "nbformat_minor": 0,
  "metadata": {
    "colab": {
      "name": "Loan_challenge.ipynb",
      "provenance": [],
      "collapsed_sections": [],
      "toc_visible": true,
      "machine_shape": "hm"
    },
    "kernelspec": {
      "name": "python3",
      "display_name": "Python 3"
    }
  },
  "cells": [
    {
      "cell_type": "markdown",
      "metadata": {
        "id": "cB8WDyXwY0S0",
        "colab_type": "text"
      },
      "source": [
        "**Goal:**\n",
        "\n",
        "- The objective of this project is to predict whether loan can be granted to a person or not."
      ]
    },
    {
      "cell_type": "code",
      "metadata": {
        "id": "144Zhxt6Ht2S",
        "colab_type": "code",
        "colab": {}
      },
      "source": [
        "import sklearn\n",
        "import pandas as pd\n",
        "import numpy as np\n",
        "from sklearn import preprocessing\n",
        "from sklearn.model_selection import train_test_split\n",
        "from sklearn.metrics import accuracy_score,f1_score,precision_score,recall_score\n",
        "from sklearn.ensemble import RandomForestClassifier, VotingClassifier\n",
        "from sklearn.model_selection import cross_val_score"
      ],
      "execution_count": 0,
      "outputs": []
    },
    {
      "cell_type": "markdown",
      "metadata": {
        "id": "tYvYn2FMZVce",
        "colab_type": "text"
      },
      "source": [
        "**DATASET PROVIDED:**\n",
        "\n",
        "Two dataset has been provided for this problem.\n",
        "\n",
        "**loan_table** consists of loan details.\n",
        "\n",
        "**borrower_table** consists of borrower details.\n",
        "\n",
        "There is a total of **101100 records** in both the tables, and they can be linked through the column **loan_id**.\n"
      ]
    },
    {
      "cell_type": "code",
      "metadata": {
        "id": "fYwH0nzuPG56",
        "colab_type": "code",
        "colab": {}
      },
      "source": [
        "loan_data=pd.read_csv('loan_table.csv')\n",
        "borrower_data=pd.read_csv('borrower_table.csv')"
      ],
      "execution_count": 0,
      "outputs": []
    },
    {
      "cell_type": "code",
      "metadata": {
        "id": "UdWpjU6XZcpa",
        "colab_type": "code",
        "outputId": "9842c2cb-31e3-4048-af0f-803a132a05a4",
        "colab": {
          "base_uri": "https://localhost:8080/",
          "height": 187
        }
      },
      "source": [
        "loan_data.info()"
      ],
      "execution_count": 4,
      "outputs": [
        {
          "output_type": "stream",
          "text": [
            "<class 'pandas.core.frame.DataFrame'>\n",
            "RangeIndex: 101100 entries, 0 to 101099\n",
            "Data columns (total 5 columns):\n",
            "loan_id         101100 non-null int64\n",
            "loan_purpose    101100 non-null object\n",
            "date            101100 non-null object\n",
            "loan_granted    101100 non-null int64\n",
            "loan_repaid     47654 non-null float64\n",
            "dtypes: float64(1), int64(2), object(2)\n",
            "memory usage: 3.9+ MB\n"
          ],
          "name": "stdout"
        }
      ]
    },
    {
      "cell_type": "code",
      "metadata": {
        "id": "8qGMTzdQRE1X",
        "colab_type": "code",
        "outputId": "cdc275d3-8fca-4789-c283-766d19f029cc",
        "colab": {
          "base_uri": "https://localhost:8080/",
          "height": 204
        }
      },
      "source": [
        "loan_data.head()"
      ],
      "execution_count": 5,
      "outputs": [
        {
          "output_type": "execute_result",
          "data": {
            "text/html": [
              "<div>\n",
              "<style scoped>\n",
              "    .dataframe tbody tr th:only-of-type {\n",
              "        vertical-align: middle;\n",
              "    }\n",
              "\n",
              "    .dataframe tbody tr th {\n",
              "        vertical-align: top;\n",
              "    }\n",
              "\n",
              "    .dataframe thead th {\n",
              "        text-align: right;\n",
              "    }\n",
              "</style>\n",
              "<table border=\"1\" class=\"dataframe\">\n",
              "  <thead>\n",
              "    <tr style=\"text-align: right;\">\n",
              "      <th></th>\n",
              "      <th>loan_id</th>\n",
              "      <th>loan_purpose</th>\n",
              "      <th>date</th>\n",
              "      <th>loan_granted</th>\n",
              "      <th>loan_repaid</th>\n",
              "    </tr>\n",
              "  </thead>\n",
              "  <tbody>\n",
              "    <tr>\n",
              "      <th>0</th>\n",
              "      <td>19454</td>\n",
              "      <td>investment</td>\n",
              "      <td>2012-03-15</td>\n",
              "      <td>0</td>\n",
              "      <td>NaN</td>\n",
              "    </tr>\n",
              "    <tr>\n",
              "      <th>1</th>\n",
              "      <td>496811</td>\n",
              "      <td>investment</td>\n",
              "      <td>2012-01-17</td>\n",
              "      <td>0</td>\n",
              "      <td>NaN</td>\n",
              "    </tr>\n",
              "    <tr>\n",
              "      <th>2</th>\n",
              "      <td>929493</td>\n",
              "      <td>other</td>\n",
              "      <td>2012-02-09</td>\n",
              "      <td>0</td>\n",
              "      <td>NaN</td>\n",
              "    </tr>\n",
              "    <tr>\n",
              "      <th>3</th>\n",
              "      <td>580653</td>\n",
              "      <td>other</td>\n",
              "      <td>2012-06-27</td>\n",
              "      <td>1</td>\n",
              "      <td>1.0</td>\n",
              "    </tr>\n",
              "    <tr>\n",
              "      <th>4</th>\n",
              "      <td>172419</td>\n",
              "      <td>business</td>\n",
              "      <td>2012-05-21</td>\n",
              "      <td>1</td>\n",
              "      <td>0.0</td>\n",
              "    </tr>\n",
              "  </tbody>\n",
              "</table>\n",
              "</div>"
            ],
            "text/plain": [
              "   loan_id loan_purpose        date  loan_granted  loan_repaid\n",
              "0    19454   investment  2012-03-15             0          NaN\n",
              "1   496811   investment  2012-01-17             0          NaN\n",
              "2   929493        other  2012-02-09             0          NaN\n",
              "3   580653        other  2012-06-27             1          1.0\n",
              "4   172419     business  2012-05-21             1          0.0"
            ]
          },
          "metadata": {
            "tags": []
          },
          "execution_count": 5
        }
      ]
    },
    {
      "cell_type": "code",
      "metadata": {
        "id": "fbzBXFppZmHQ",
        "colab_type": "code",
        "outputId": "2bbc80f6-108e-4933-8730-9052ac1a7521",
        "colab": {
          "base_uri": "https://localhost:8080/",
          "height": 306
        }
      },
      "source": [
        "borrower_data.info()"
      ],
      "execution_count": 6,
      "outputs": [
        {
          "output_type": "stream",
          "text": [
            "<class 'pandas.core.frame.DataFrame'>\n",
            "RangeIndex: 101100 entries, 0 to 101099\n",
            "Data columns (total 12 columns):\n",
            "loan_id                                            101100 non-null int64\n",
            "is_first_loan                                      101100 non-null int64\n",
            "fully_repaid_previous_loans                        46153 non-null float64\n",
            "currently_repaying_other_loans                     46153 non-null float64\n",
            "total_credit_card_limit                            101100 non-null int64\n",
            "avg_percentage_credit_card_limit_used_last_year    94128 non-null float64\n",
            "saving_amount                                      101100 non-null int64\n",
            "checking_amount                                    101100 non-null int64\n",
            "is_employed                                        101100 non-null int64\n",
            "yearly_salary                                      101100 non-null int64\n",
            "age                                                101100 non-null int64\n",
            "dependent_number                                   101100 non-null int64\n",
            "dtypes: float64(3), int64(9)\n",
            "memory usage: 9.3 MB\n"
          ],
          "name": "stdout"
        }
      ]
    },
    {
      "cell_type": "code",
      "metadata": {
        "id": "OobQGU9fRLFP",
        "colab_type": "code",
        "outputId": "abaec216-e928-44fc-ec8d-9e49b03212d0",
        "colab": {
          "base_uri": "https://localhost:8080/",
          "height": 224
        }
      },
      "source": [
        "borrower_data.head()"
      ],
      "execution_count": 7,
      "outputs": [
        {
          "output_type": "execute_result",
          "data": {
            "text/html": [
              "<div>\n",
              "<style scoped>\n",
              "    .dataframe tbody tr th:only-of-type {\n",
              "        vertical-align: middle;\n",
              "    }\n",
              "\n",
              "    .dataframe tbody tr th {\n",
              "        vertical-align: top;\n",
              "    }\n",
              "\n",
              "    .dataframe thead th {\n",
              "        text-align: right;\n",
              "    }\n",
              "</style>\n",
              "<table border=\"1\" class=\"dataframe\">\n",
              "  <thead>\n",
              "    <tr style=\"text-align: right;\">\n",
              "      <th></th>\n",
              "      <th>loan_id</th>\n",
              "      <th>is_first_loan</th>\n",
              "      <th>fully_repaid_previous_loans</th>\n",
              "      <th>currently_repaying_other_loans</th>\n",
              "      <th>total_credit_card_limit</th>\n",
              "      <th>avg_percentage_credit_card_limit_used_last_year</th>\n",
              "      <th>saving_amount</th>\n",
              "      <th>checking_amount</th>\n",
              "      <th>is_employed</th>\n",
              "      <th>yearly_salary</th>\n",
              "      <th>age</th>\n",
              "      <th>dependent_number</th>\n",
              "    </tr>\n",
              "  </thead>\n",
              "  <tbody>\n",
              "    <tr>\n",
              "      <th>0</th>\n",
              "      <td>289774</td>\n",
              "      <td>1</td>\n",
              "      <td>NaN</td>\n",
              "      <td>NaN</td>\n",
              "      <td>8000</td>\n",
              "      <td>0.49</td>\n",
              "      <td>3285</td>\n",
              "      <td>1073</td>\n",
              "      <td>0</td>\n",
              "      <td>0</td>\n",
              "      <td>47</td>\n",
              "      <td>3</td>\n",
              "    </tr>\n",
              "    <tr>\n",
              "      <th>1</th>\n",
              "      <td>482590</td>\n",
              "      <td>0</td>\n",
              "      <td>1.0</td>\n",
              "      <td>0.0</td>\n",
              "      <td>4500</td>\n",
              "      <td>1.03</td>\n",
              "      <td>636</td>\n",
              "      <td>5299</td>\n",
              "      <td>1</td>\n",
              "      <td>13500</td>\n",
              "      <td>33</td>\n",
              "      <td>1</td>\n",
              "    </tr>\n",
              "    <tr>\n",
              "      <th>2</th>\n",
              "      <td>135565</td>\n",
              "      <td>1</td>\n",
              "      <td>NaN</td>\n",
              "      <td>NaN</td>\n",
              "      <td>6900</td>\n",
              "      <td>0.82</td>\n",
              "      <td>2085</td>\n",
              "      <td>3422</td>\n",
              "      <td>1</td>\n",
              "      <td>24500</td>\n",
              "      <td>38</td>\n",
              "      <td>8</td>\n",
              "    </tr>\n",
              "    <tr>\n",
              "      <th>3</th>\n",
              "      <td>207797</td>\n",
              "      <td>0</td>\n",
              "      <td>1.0</td>\n",
              "      <td>0.0</td>\n",
              "      <td>1200</td>\n",
              "      <td>0.82</td>\n",
              "      <td>358</td>\n",
              "      <td>3388</td>\n",
              "      <td>0</td>\n",
              "      <td>0</td>\n",
              "      <td>24</td>\n",
              "      <td>1</td>\n",
              "    </tr>\n",
              "    <tr>\n",
              "      <th>4</th>\n",
              "      <td>828078</td>\n",
              "      <td>0</td>\n",
              "      <td>0.0</td>\n",
              "      <td>0.0</td>\n",
              "      <td>6900</td>\n",
              "      <td>0.80</td>\n",
              "      <td>2138</td>\n",
              "      <td>4282</td>\n",
              "      <td>1</td>\n",
              "      <td>18100</td>\n",
              "      <td>36</td>\n",
              "      <td>1</td>\n",
              "    </tr>\n",
              "  </tbody>\n",
              "</table>\n",
              "</div>"
            ],
            "text/plain": [
              "   loan_id  is_first_loan  ...  age  dependent_number\n",
              "0   289774              1  ...   47                 3\n",
              "1   482590              0  ...   33                 1\n",
              "2   135565              1  ...   38                 8\n",
              "3   207797              0  ...   24                 1\n",
              "4   828078              0  ...   36                 1\n",
              "\n",
              "[5 rows x 12 columns]"
            ]
          },
          "metadata": {
            "tags": []
          },
          "execution_count": 7
        }
      ]
    },
    {
      "cell_type": "markdown",
      "metadata": {
        "id": "pv4HZ9YrZvDD",
        "colab_type": "text"
      },
      "source": [
        "Linking both dataset through the common column **'loan_id'**"
      ]
    },
    {
      "cell_type": "code",
      "metadata": {
        "id": "F9vy-KeaZ0iS",
        "colab_type": "code",
        "colab": {}
      },
      "source": [
        "loan_data_full=borrower_data.merge(loan_data,on='loan_id')"
      ],
      "execution_count": 0,
      "outputs": []
    },
    {
      "cell_type": "code",
      "metadata": {
        "id": "66VmXcmFZ_Fq",
        "colab_type": "code",
        "outputId": "01ed384c-e673-42cf-bcd0-5f4b36a71151",
        "colab": {
          "base_uri": "https://localhost:8080/",
          "height": 309
        }
      },
      "source": [
        "loan_data_full.head()"
      ],
      "execution_count": 9,
      "outputs": [
        {
          "output_type": "execute_result",
          "data": {
            "text/html": [
              "<div>\n",
              "<style scoped>\n",
              "    .dataframe tbody tr th:only-of-type {\n",
              "        vertical-align: middle;\n",
              "    }\n",
              "\n",
              "    .dataframe tbody tr th {\n",
              "        vertical-align: top;\n",
              "    }\n",
              "\n",
              "    .dataframe thead th {\n",
              "        text-align: right;\n",
              "    }\n",
              "</style>\n",
              "<table border=\"1\" class=\"dataframe\">\n",
              "  <thead>\n",
              "    <tr style=\"text-align: right;\">\n",
              "      <th></th>\n",
              "      <th>loan_id</th>\n",
              "      <th>is_first_loan</th>\n",
              "      <th>fully_repaid_previous_loans</th>\n",
              "      <th>currently_repaying_other_loans</th>\n",
              "      <th>total_credit_card_limit</th>\n",
              "      <th>avg_percentage_credit_card_limit_used_last_year</th>\n",
              "      <th>saving_amount</th>\n",
              "      <th>checking_amount</th>\n",
              "      <th>is_employed</th>\n",
              "      <th>yearly_salary</th>\n",
              "      <th>age</th>\n",
              "      <th>dependent_number</th>\n",
              "      <th>loan_purpose</th>\n",
              "      <th>date</th>\n",
              "      <th>loan_granted</th>\n",
              "      <th>loan_repaid</th>\n",
              "    </tr>\n",
              "  </thead>\n",
              "  <tbody>\n",
              "    <tr>\n",
              "      <th>0</th>\n",
              "      <td>289774</td>\n",
              "      <td>1</td>\n",
              "      <td>NaN</td>\n",
              "      <td>NaN</td>\n",
              "      <td>8000</td>\n",
              "      <td>0.49</td>\n",
              "      <td>3285</td>\n",
              "      <td>1073</td>\n",
              "      <td>0</td>\n",
              "      <td>0</td>\n",
              "      <td>47</td>\n",
              "      <td>3</td>\n",
              "      <td>business</td>\n",
              "      <td>2012-01-31</td>\n",
              "      <td>0</td>\n",
              "      <td>NaN</td>\n",
              "    </tr>\n",
              "    <tr>\n",
              "      <th>1</th>\n",
              "      <td>482590</td>\n",
              "      <td>0</td>\n",
              "      <td>1.0</td>\n",
              "      <td>0.0</td>\n",
              "      <td>4500</td>\n",
              "      <td>1.03</td>\n",
              "      <td>636</td>\n",
              "      <td>5299</td>\n",
              "      <td>1</td>\n",
              "      <td>13500</td>\n",
              "      <td>33</td>\n",
              "      <td>1</td>\n",
              "      <td>investment</td>\n",
              "      <td>2012-11-02</td>\n",
              "      <td>0</td>\n",
              "      <td>NaN</td>\n",
              "    </tr>\n",
              "    <tr>\n",
              "      <th>2</th>\n",
              "      <td>135565</td>\n",
              "      <td>1</td>\n",
              "      <td>NaN</td>\n",
              "      <td>NaN</td>\n",
              "      <td>6900</td>\n",
              "      <td>0.82</td>\n",
              "      <td>2085</td>\n",
              "      <td>3422</td>\n",
              "      <td>1</td>\n",
              "      <td>24500</td>\n",
              "      <td>38</td>\n",
              "      <td>8</td>\n",
              "      <td>other</td>\n",
              "      <td>2012-07-16</td>\n",
              "      <td>1</td>\n",
              "      <td>1.0</td>\n",
              "    </tr>\n",
              "    <tr>\n",
              "      <th>3</th>\n",
              "      <td>207797</td>\n",
              "      <td>0</td>\n",
              "      <td>1.0</td>\n",
              "      <td>0.0</td>\n",
              "      <td>1200</td>\n",
              "      <td>0.82</td>\n",
              "      <td>358</td>\n",
              "      <td>3388</td>\n",
              "      <td>0</td>\n",
              "      <td>0</td>\n",
              "      <td>24</td>\n",
              "      <td>1</td>\n",
              "      <td>investment</td>\n",
              "      <td>2012-06-05</td>\n",
              "      <td>0</td>\n",
              "      <td>NaN</td>\n",
              "    </tr>\n",
              "    <tr>\n",
              "      <th>4</th>\n",
              "      <td>828078</td>\n",
              "      <td>0</td>\n",
              "      <td>0.0</td>\n",
              "      <td>0.0</td>\n",
              "      <td>6900</td>\n",
              "      <td>0.80</td>\n",
              "      <td>2138</td>\n",
              "      <td>4282</td>\n",
              "      <td>1</td>\n",
              "      <td>18100</td>\n",
              "      <td>36</td>\n",
              "      <td>1</td>\n",
              "      <td>emergency_funds</td>\n",
              "      <td>2012-11-28</td>\n",
              "      <td>0</td>\n",
              "      <td>NaN</td>\n",
              "    </tr>\n",
              "  </tbody>\n",
              "</table>\n",
              "</div>"
            ],
            "text/plain": [
              "   loan_id  is_first_loan  ...  loan_granted  loan_repaid\n",
              "0   289774              1  ...             0          NaN\n",
              "1   482590              0  ...             0          NaN\n",
              "2   135565              1  ...             1          1.0\n",
              "3   207797              0  ...             0          NaN\n",
              "4   828078              0  ...             0          NaN\n",
              "\n",
              "[5 rows x 16 columns]"
            ]
          },
          "metadata": {
            "tags": []
          },
          "execution_count": 9
        }
      ]
    },
    {
      "cell_type": "markdown",
      "metadata": {
        "id": "fXfrcqo7aDnD",
        "colab_type": "text"
      },
      "source": [
        "**OBSERVATIONS:**\n",
        "\n"
      ]
    },
    {
      "cell_type": "markdown",
      "metadata": {
        "id": "6W6wzxxsa6ws",
        "colab_type": "text"
      },
      "source": [
        "- Four columns has null values in the dataset."
      ]
    },
    {
      "cell_type": "code",
      "metadata": {
        "id": "WUtiYFyAaOyB",
        "colab_type": "code",
        "outputId": "29a014c7-cf17-4568-f8fb-122843e3a541",
        "colab": {
          "base_uri": "https://localhost:8080/",
          "height": 306
        }
      },
      "source": [
        "loan_data_full.isna().sum()"
      ],
      "execution_count": 10,
      "outputs": [
        {
          "output_type": "execute_result",
          "data": {
            "text/plain": [
              "loan_id                                                0\n",
              "is_first_loan                                          0\n",
              "fully_repaid_previous_loans                        54947\n",
              "currently_repaying_other_loans                     54947\n",
              "total_credit_card_limit                                0\n",
              "avg_percentage_credit_card_limit_used_last_year     6972\n",
              "saving_amount                                          0\n",
              "checking_amount                                        0\n",
              "is_employed                                            0\n",
              "yearly_salary                                          0\n",
              "age                                                    0\n",
              "dependent_number                                       0\n",
              "loan_purpose                                           0\n",
              "date                                                   0\n",
              "loan_granted                                           0\n",
              "loan_repaid                                        53446\n",
              "dtype: int64"
            ]
          },
          "metadata": {
            "tags": []
          },
          "execution_count": 10
        }
      ]
    },
    {
      "cell_type": "markdown",
      "metadata": {
        "id": "-EwsCJ08PcdQ",
        "colab_type": "text"
      },
      "source": [
        "OBSERVATION 1:"
      ]
    },
    {
      "cell_type": "markdown",
      "metadata": {
        "id": "JCEBCASGb6z8",
        "colab_type": "text"
      },
      "source": [
        "**loan_granted column** describes whether loan has been granted or not with 0 for loan not granted and 1 for loan granted.\n",
        "\n",
        "**loan_repaid column** describes whether loan(if granted) has been repaid or not.It has 0 to represent loan has not been repaid, 1 to represent loan has been repaid and NaN to represent empty value.\n",
        "\n",
        "**NOTE:** If loan is **not granted**  for a person (record), then for that person (record) loan repaid will be **empty**, because there will be nothing to repay if the loan has never been taken from the beginning. Hence, **loan_repaid** column has **NaN** values."
      ]
    },
    {
      "cell_type": "code",
      "metadata": {
        "id": "AUlg7-HYbBAY",
        "colab_type": "code",
        "outputId": "c28a8c34-6a8c-45a9-a59a-3cfe500f1c86",
        "colab": {
          "base_uri": "https://localhost:8080/",
          "height": 68
        }
      },
      "source": [
        "print(loan_data_full['loan_granted'].value_counts())"
      ],
      "execution_count": 11,
      "outputs": [
        {
          "output_type": "stream",
          "text": [
            "0    53446\n",
            "1    47654\n",
            "Name: loan_granted, dtype: int64\n"
          ],
          "name": "stdout"
        }
      ]
    },
    {
      "cell_type": "code",
      "metadata": {
        "id": "e5w8RX8feNMd",
        "colab_type": "code",
        "outputId": "bf229765-d339-424b-d249-f6d4b295b5ba",
        "colab": {
          "base_uri": "https://localhost:8080/",
          "height": 34
        }
      },
      "source": [
        "print(loan_data_full['loan_repaid'].isna().sum())"
      ],
      "execution_count": 12,
      "outputs": [
        {
          "output_type": "stream",
          "text": [
            "53446\n"
          ],
          "name": "stdout"
        }
      ]
    },
    {
      "cell_type": "markdown",
      "metadata": {
        "id": "dSRXx456Uhjo",
        "colab_type": "text"
      },
      "source": [
        "It can be noted from the above two code snippets that the number of records with loan not granted is 53446, and the number of records with null values for loan_repaid is 53446."
      ]
    },
    {
      "cell_type": "markdown",
      "metadata": {
        "id": "GenFID82PTwD",
        "colab_type": "text"
      },
      "source": [
        "OBSERVATION 2:"
      ]
    },
    {
      "cell_type": "markdown",
      "metadata": {
        "id": "Xjn13SlTeue4",
        "colab_type": "text"
      },
      "source": [
        "**is_first_loan column**  describes whether the person is taking the loan for the first time or not, with 0 for **no** and 1 for **yes**.\n",
        "\n",
        "**fully_repaid_previous_loans column** represents if the person has repaid his previous loans or not with 1 for yes and 0 for no and NaN for empty value.\n",
        "\n",
        "**currently_repaying_other_loans column** represents if the person is currently repaying any other loans or not if 1 for yes and 0 for no and NaN for empty value.\n",
        "\n",
        "**NOTE:** If **is_taking_loan** (for a record) is 1, then that record will definitely have NaN value for the columns **fully_repaid_previous_loans** and **currently_repaying_other_loans** column, because that person is taking a loan for the first time, and he/she cannot have previous/current loans. Hence, these two columns have **NaN** values.  \n",
        "\n"
      ]
    },
    {
      "cell_type": "code",
      "metadata": {
        "id": "O5JHouV0as-R",
        "colab_type": "code",
        "outputId": "0e34db4c-c40e-48c2-949e-d5ca10351f49",
        "colab": {
          "base_uri": "https://localhost:8080/",
          "height": 68
        }
      },
      "source": [
        "print(loan_data_full['is_first_loan'].value_counts())"
      ],
      "execution_count": 13,
      "outputs": [
        {
          "output_type": "stream",
          "text": [
            "1    54947\n",
            "0    46153\n",
            "Name: is_first_loan, dtype: int64\n"
          ],
          "name": "stdout"
        }
      ]
    },
    {
      "cell_type": "code",
      "metadata": {
        "id": "lnCh28Lvefre",
        "colab_type": "code",
        "outputId": "0841aef4-58cf-4628-f560-8b0042a36547",
        "colab": {
          "base_uri": "https://localhost:8080/",
          "height": 34
        }
      },
      "source": [
        "print(loan_data_full['fully_repaid_previous_loans'].isna().sum())"
      ],
      "execution_count": 14,
      "outputs": [
        {
          "output_type": "stream",
          "text": [
            "54947\n"
          ],
          "name": "stdout"
        }
      ]
    },
    {
      "cell_type": "code",
      "metadata": {
        "id": "rYh1L4fPeqdF",
        "colab_type": "code",
        "outputId": "21735ea1-4219-4383-e982-fa7e982cf673",
        "colab": {
          "base_uri": "https://localhost:8080/",
          "height": 34
        }
      },
      "source": [
        "print(loan_data_full['currently_repaying_other_loans'].isna().sum())"
      ],
      "execution_count": 15,
      "outputs": [
        {
          "output_type": "stream",
          "text": [
            "54947\n"
          ],
          "name": "stdout"
        }
      ]
    },
    {
      "cell_type": "markdown",
      "metadata": {
        "id": "sdhcgTPjUDoo",
        "colab_type": "text"
      },
      "source": [
        "It can be noted from the above three code snippets that the number of records having 1 for is_first_loan is 54947, and the number of records with null values for both the columns fully_repaid_previous_loans and currently_repaying_other_loans is also 54947. "
      ]
    },
    {
      "cell_type": "markdown",
      "metadata": {
        "id": "6hFRIQGZPkRy",
        "colab_type": "text"
      },
      "source": [
        "OBSERVATION 3:"
      ]
    },
    {
      "cell_type": "markdown",
      "metadata": {
        "id": "zXXHv9TijGYw",
        "colab_type": "text"
      },
      "source": [
        "**total_credit_card_limit column** represents the credit card limit for a person. It consists of numerical data.\n",
        "\n",
        "**avg_percentage_credit_card_limit_used_last_year column** represents how much a person used from his/her credit card limit on a average in the past 12 months in terms of percentage. It is ideally between 0 and 1, and it may go beyond 1 of a person used above his/her credit card limit.\n",
        "\n",
        "**NOTE:** For all those records that have **total_credit_card_limit** as **0**, the **avg_percentage_credit_card_limit_used_last_year** for that record will be **NaN**, as that person cannot use a credit card, and hence there will be no history for it."
      ]
    },
    {
      "cell_type": "code",
      "metadata": {
        "id": "tlbrvQtRiJi6",
        "colab_type": "code",
        "outputId": "a35d3919-890a-49f2-f382-ec1a3db22ba5",
        "colab": {
          "base_uri": "https://localhost:8080/",
          "height": 221
        }
      },
      "source": [
        "loan_data_full['total_credit_card_limit'].value_counts()"
      ],
      "execution_count": 16,
      "outputs": [
        {
          "output_type": "execute_result",
          "data": {
            "text/plain": [
              "0        6972\n",
              "3300     1981\n",
              "4000     1918\n",
              "3500     1914\n",
              "4300     1896\n",
              "         ... \n",
              "13300       1\n",
              "13200       1\n",
              "13500       1\n",
              "12700       1\n",
              "12500       1\n",
              "Name: total_credit_card_limit, Length: 125, dtype: int64"
            ]
          },
          "metadata": {
            "tags": []
          },
          "execution_count": 16
        }
      ]
    },
    {
      "cell_type": "code",
      "metadata": {
        "id": "DBWoEq5Qi5yd",
        "colab_type": "code",
        "outputId": "3ad90637-6ac3-461a-d436-616683b75fab",
        "colab": {
          "base_uri": "https://localhost:8080/",
          "height": 34
        }
      },
      "source": [
        "loan_data_full['avg_percentage_credit_card_limit_used_last_year'].isna().sum()"
      ],
      "execution_count": 17,
      "outputs": [
        {
          "output_type": "execute_result",
          "data": {
            "text/plain": [
              "6972"
            ]
          },
          "metadata": {
            "tags": []
          },
          "execution_count": 17
        }
      ]
    },
    {
      "cell_type": "markdown",
      "metadata": {
        "id": "u7GVjVcaTuid",
        "colab_type": "text"
      },
      "source": [
        "It can be noted from above two code snippets that there is 6972 records with total credit card limit as 0, and the number of null values in avg_percentage_credit_card_limit_used_last_year is also 6972."
      ]
    },
    {
      "cell_type": "markdown",
      "metadata": {
        "id": "WP_KeERhamkW",
        "colab_type": "text"
      },
      "source": [
        "**DATA PRE-PROCESSING:**"
      ]
    },
    {
      "cell_type": "markdown",
      "metadata": {
        "id": "-2ZCg2nwnP5z",
        "colab_type": "text"
      },
      "source": [
        "Merging the columns laon_granted and loan_repaid and representing it with a new column **loan_status** having values \n",
        "\n",
        "0 - Loan not granted\n",
        "\n",
        "1 - Loan granted and repaid\n",
        "\n",
        "2 - Loan granted and not repaid\n",
        "\n",
        "In the above three cases, **1** is the most preferred case."
      ]
    },
    {
      "cell_type": "code",
      "metadata": {
        "id": "TSNZfX6fhNp0",
        "colab_type": "code",
        "colab": {}
      },
      "source": [
        "def status(row):\n",
        "  if row['loan_granted']==0:\n",
        "    return 0\n",
        "  if row['loan_granted'] == 1 and row['loan_repaid'] == 1:\n",
        "    return 1\n",
        "  if row['loan_granted'] == 1 and row['loan_repaid'] == 0:\n",
        "    return 2"
      ],
      "execution_count": 0,
      "outputs": []
    },
    {
      "cell_type": "code",
      "metadata": {
        "id": "hoNHPB_UkILr",
        "colab_type": "code",
        "colab": {}
      },
      "source": [
        "loan_data_full['loan_status']=loan_data_full.apply(status,axis=1)"
      ],
      "execution_count": 0,
      "outputs": []
    },
    {
      "cell_type": "markdown",
      "metadata": {
        "id": "JHWSz-W5MejZ",
        "colab_type": "text"
      },
      "source": [
        "Remove unwanted and redundant data."
      ]
    },
    {
      "cell_type": "code",
      "metadata": {
        "id": "pU-YDaH59EAf",
        "colab_type": "code",
        "colab": {}
      },
      "source": [
        "loan_data_full=loan_data_full.drop(['loan_repaid', 'loan_granted','loan_id', 'date'], axis=1)"
      ],
      "execution_count": 0,
      "outputs": []
    },
    {
      "cell_type": "markdown",
      "metadata": {
        "id": "8k4UlE2THWH4",
        "colab_type": "text"
      },
      "source": [
        "I have filled all the records having NaN values for the column **avg_percentage_credit_card_limit_used_last_year** with 0 , as the total credit card limit value for those records is 0. "
      ]
    },
    {
      "cell_type": "code",
      "metadata": {
        "id": "fUUX8hffEXKT",
        "colab_type": "code",
        "colab": {}
      },
      "source": [
        "loan_data_full['avg_percentage_credit_card_limit_used_last_year']=loan_data_full['avg_percentage_credit_card_limit_used_last_year'].fillna(0)"
      ],
      "execution_count": 0,
      "outputs": []
    },
    {
      "cell_type": "markdown",
      "metadata": {
        "id": "99qJ_F51oQ2Y",
        "colab_type": "text"
      },
      "source": [
        "\n",
        "One hot encoded the columns fully_repaid_previous_loans, currently_repaying_other_loans, is_employed, dependent_number, loan_purpose using pandas function pd.get_dummies()\n",
        "\n",
        "**NOTE:** Once the above mentioned columns have been encoded, the null values in the columns **fully_repaid_previous_loans** and **currently_repaying_other_loans** will be eliminated automatically."
      ]
    },
    {
      "cell_type": "code",
      "metadata": {
        "id": "E2DSFsQ9-xQa",
        "colab_type": "code",
        "colab": {}
      },
      "source": [
        "one_hot_encoded=pd.get_dummies(loan_data_full,columns=['fully_repaid_previous_loans','currently_repaying_other_loans','is_employed','dependent_number','loan_purpose'])"
      ],
      "execution_count": 0,
      "outputs": []
    },
    {
      "cell_type": "code",
      "metadata": {
        "id": "_0F9PKjGp3lj",
        "colab_type": "code",
        "outputId": "76d755a5-72db-4f07-c45f-3e0c33b55ec5",
        "colab": {
          "base_uri": "https://localhost:8080/",
          "height": 224
        }
      },
      "source": [
        "one_hot_encoded.head()"
      ],
      "execution_count": 23,
      "outputs": [
        {
          "output_type": "execute_result",
          "data": {
            "text/html": [
              "<div>\n",
              "<style scoped>\n",
              "    .dataframe tbody tr th:only-of-type {\n",
              "        vertical-align: middle;\n",
              "    }\n",
              "\n",
              "    .dataframe tbody tr th {\n",
              "        vertical-align: top;\n",
              "    }\n",
              "\n",
              "    .dataframe thead th {\n",
              "        text-align: right;\n",
              "    }\n",
              "</style>\n",
              "<table border=\"1\" class=\"dataframe\">\n",
              "  <thead>\n",
              "    <tr style=\"text-align: right;\">\n",
              "      <th></th>\n",
              "      <th>is_first_loan</th>\n",
              "      <th>total_credit_card_limit</th>\n",
              "      <th>avg_percentage_credit_card_limit_used_last_year</th>\n",
              "      <th>saving_amount</th>\n",
              "      <th>checking_amount</th>\n",
              "      <th>yearly_salary</th>\n",
              "      <th>age</th>\n",
              "      <th>loan_status</th>\n",
              "      <th>fully_repaid_previous_loans_0.0</th>\n",
              "      <th>fully_repaid_previous_loans_1.0</th>\n",
              "      <th>currently_repaying_other_loans_0.0</th>\n",
              "      <th>currently_repaying_other_loans_1.0</th>\n",
              "      <th>is_employed_0</th>\n",
              "      <th>is_employed_1</th>\n",
              "      <th>dependent_number_0</th>\n",
              "      <th>dependent_number_1</th>\n",
              "      <th>dependent_number_2</th>\n",
              "      <th>dependent_number_3</th>\n",
              "      <th>dependent_number_4</th>\n",
              "      <th>dependent_number_5</th>\n",
              "      <th>dependent_number_6</th>\n",
              "      <th>dependent_number_7</th>\n",
              "      <th>dependent_number_8</th>\n",
              "      <th>loan_purpose_business</th>\n",
              "      <th>loan_purpose_emergency_funds</th>\n",
              "      <th>loan_purpose_home</th>\n",
              "      <th>loan_purpose_investment</th>\n",
              "      <th>loan_purpose_other</th>\n",
              "    </tr>\n",
              "  </thead>\n",
              "  <tbody>\n",
              "    <tr>\n",
              "      <th>0</th>\n",
              "      <td>1</td>\n",
              "      <td>8000</td>\n",
              "      <td>0.49</td>\n",
              "      <td>3285</td>\n",
              "      <td>1073</td>\n",
              "      <td>0</td>\n",
              "      <td>47</td>\n",
              "      <td>0</td>\n",
              "      <td>0</td>\n",
              "      <td>0</td>\n",
              "      <td>0</td>\n",
              "      <td>0</td>\n",
              "      <td>1</td>\n",
              "      <td>0</td>\n",
              "      <td>0</td>\n",
              "      <td>0</td>\n",
              "      <td>0</td>\n",
              "      <td>1</td>\n",
              "      <td>0</td>\n",
              "      <td>0</td>\n",
              "      <td>0</td>\n",
              "      <td>0</td>\n",
              "      <td>0</td>\n",
              "      <td>1</td>\n",
              "      <td>0</td>\n",
              "      <td>0</td>\n",
              "      <td>0</td>\n",
              "      <td>0</td>\n",
              "    </tr>\n",
              "    <tr>\n",
              "      <th>1</th>\n",
              "      <td>0</td>\n",
              "      <td>4500</td>\n",
              "      <td>1.03</td>\n",
              "      <td>636</td>\n",
              "      <td>5299</td>\n",
              "      <td>13500</td>\n",
              "      <td>33</td>\n",
              "      <td>0</td>\n",
              "      <td>0</td>\n",
              "      <td>1</td>\n",
              "      <td>1</td>\n",
              "      <td>0</td>\n",
              "      <td>0</td>\n",
              "      <td>1</td>\n",
              "      <td>0</td>\n",
              "      <td>1</td>\n",
              "      <td>0</td>\n",
              "      <td>0</td>\n",
              "      <td>0</td>\n",
              "      <td>0</td>\n",
              "      <td>0</td>\n",
              "      <td>0</td>\n",
              "      <td>0</td>\n",
              "      <td>0</td>\n",
              "      <td>0</td>\n",
              "      <td>0</td>\n",
              "      <td>1</td>\n",
              "      <td>0</td>\n",
              "    </tr>\n",
              "    <tr>\n",
              "      <th>2</th>\n",
              "      <td>1</td>\n",
              "      <td>6900</td>\n",
              "      <td>0.82</td>\n",
              "      <td>2085</td>\n",
              "      <td>3422</td>\n",
              "      <td>24500</td>\n",
              "      <td>38</td>\n",
              "      <td>1</td>\n",
              "      <td>0</td>\n",
              "      <td>0</td>\n",
              "      <td>0</td>\n",
              "      <td>0</td>\n",
              "      <td>0</td>\n",
              "      <td>1</td>\n",
              "      <td>0</td>\n",
              "      <td>0</td>\n",
              "      <td>0</td>\n",
              "      <td>0</td>\n",
              "      <td>0</td>\n",
              "      <td>0</td>\n",
              "      <td>0</td>\n",
              "      <td>0</td>\n",
              "      <td>1</td>\n",
              "      <td>0</td>\n",
              "      <td>0</td>\n",
              "      <td>0</td>\n",
              "      <td>0</td>\n",
              "      <td>1</td>\n",
              "    </tr>\n",
              "    <tr>\n",
              "      <th>3</th>\n",
              "      <td>0</td>\n",
              "      <td>1200</td>\n",
              "      <td>0.82</td>\n",
              "      <td>358</td>\n",
              "      <td>3388</td>\n",
              "      <td>0</td>\n",
              "      <td>24</td>\n",
              "      <td>0</td>\n",
              "      <td>0</td>\n",
              "      <td>1</td>\n",
              "      <td>1</td>\n",
              "      <td>0</td>\n",
              "      <td>1</td>\n",
              "      <td>0</td>\n",
              "      <td>0</td>\n",
              "      <td>1</td>\n",
              "      <td>0</td>\n",
              "      <td>0</td>\n",
              "      <td>0</td>\n",
              "      <td>0</td>\n",
              "      <td>0</td>\n",
              "      <td>0</td>\n",
              "      <td>0</td>\n",
              "      <td>0</td>\n",
              "      <td>0</td>\n",
              "      <td>0</td>\n",
              "      <td>1</td>\n",
              "      <td>0</td>\n",
              "    </tr>\n",
              "    <tr>\n",
              "      <th>4</th>\n",
              "      <td>0</td>\n",
              "      <td>6900</td>\n",
              "      <td>0.80</td>\n",
              "      <td>2138</td>\n",
              "      <td>4282</td>\n",
              "      <td>18100</td>\n",
              "      <td>36</td>\n",
              "      <td>0</td>\n",
              "      <td>1</td>\n",
              "      <td>0</td>\n",
              "      <td>1</td>\n",
              "      <td>0</td>\n",
              "      <td>0</td>\n",
              "      <td>1</td>\n",
              "      <td>0</td>\n",
              "      <td>1</td>\n",
              "      <td>0</td>\n",
              "      <td>0</td>\n",
              "      <td>0</td>\n",
              "      <td>0</td>\n",
              "      <td>0</td>\n",
              "      <td>0</td>\n",
              "      <td>0</td>\n",
              "      <td>0</td>\n",
              "      <td>1</td>\n",
              "      <td>0</td>\n",
              "      <td>0</td>\n",
              "      <td>0</td>\n",
              "    </tr>\n",
              "  </tbody>\n",
              "</table>\n",
              "</div>"
            ],
            "text/plain": [
              "   is_first_loan  ...  loan_purpose_other\n",
              "0              1  ...                   0\n",
              "1              0  ...                   0\n",
              "2              1  ...                   1\n",
              "3              0  ...                   0\n",
              "4              0  ...                   0\n",
              "\n",
              "[5 rows x 28 columns]"
            ]
          },
          "metadata": {
            "tags": []
          },
          "execution_count": 23
        }
      ]
    },
    {
      "cell_type": "markdown",
      "metadata": {
        "id": "kUKNmfrupkgv",
        "colab_type": "text"
      },
      "source": [
        "There is no NaN values in the one hot encoded dataset."
      ]
    },
    {
      "cell_type": "code",
      "metadata": {
        "id": "aDBBXESRKtP_",
        "colab_type": "code",
        "outputId": "ed8a79f1-25ca-4c53-c90c-c5a0b32206a7",
        "colab": {
          "base_uri": "https://localhost:8080/",
          "height": 34
        }
      },
      "source": [
        "one_hot_encoded.isna().any().sum()"
      ],
      "execution_count": 24,
      "outputs": [
        {
          "output_type": "execute_result",
          "data": {
            "text/plain": [
              "0"
            ]
          },
          "metadata": {
            "tags": []
          },
          "execution_count": 24
        }
      ]
    },
    {
      "cell_type": "markdown",
      "metadata": {
        "id": "73wmRLFypWh2",
        "colab_type": "text"
      },
      "source": [
        "Split the dataset in to dependent and independent variables."
      ]
    },
    {
      "cell_type": "code",
      "metadata": {
        "id": "Rsyth59Tc4sI",
        "colab_type": "code",
        "colab": {}
      },
      "source": [
        "y=one_hot_encoded['loan_status']\n",
        "X=one_hot_encoded.drop(columns='loan_status',axis=1)"
      ],
      "execution_count": 0,
      "outputs": []
    },
    {
      "cell_type": "markdown",
      "metadata": {
        "id": "1spYa3cnsr3l",
        "colab_type": "text"
      },
      "source": [
        "Split the dataset in to train and test dataset"
      ]
    },
    {
      "cell_type": "code",
      "metadata": {
        "id": "JM6lwqKDg0e6",
        "colab_type": "code",
        "colab": {}
      },
      "source": [
        "X_train, X_test, y_train, y_test = train_test_split(X, y, test_size=0.20)"
      ],
      "execution_count": 0,
      "outputs": []
    },
    {
      "cell_type": "markdown",
      "metadata": {
        "id": "-yWjfFLeQegF",
        "colab_type": "text"
      },
      "source": [
        "Performance metrics"
      ]
    },
    {
      "cell_type": "code",
      "metadata": {
        "id": "ta_smHZor6Ie",
        "colab_type": "code",
        "colab": {}
      },
      "source": [
        "def performance_metrics(y_test,pred):\n",
        "  print(\"Performance metrics:\")\n",
        "  print(\"Accuracy  :\",accuracy_score(y_test,pred))\n",
        "  print(\"Precision :\",precision_score(y_test,pred,average='weighted'))\n",
        "  print(\"Recall    :\",recall_score(y_test,pred,average='weighted'))\n",
        "  print(\"f1 score  :\",f1_score(y_test, pred, average='weighted'))"
      ],
      "execution_count": 0,
      "outputs": []
    },
    {
      "cell_type": "markdown",
      "metadata": {
        "id": "nf8GiuKnulYT",
        "colab_type": "text"
      },
      "source": [
        "Create a random forest classifier to train the data."
      ]
    },
    {
      "cell_type": "code",
      "metadata": {
        "id": "KfyAL-dVg8Ou",
        "colab_type": "code",
        "outputId": "c7da3f20-194e-4b1b-96f1-561b6a07acf9",
        "colab": {
          "base_uri": "https://localhost:8080/",
          "height": 153
        }
      },
      "source": [
        "model = RandomForestClassifier(max_depth=20)\n",
        "model.fit(X_train, y_train)\n",
        "pred=model.predict(X_test)\n",
        "\n",
        "performance_metrics(y_test,pred)\n",
        "print(\"\\nNOTE: Scores have been calculated without scaling the dataset,as Random forest\\n      is a tree based model and does not require feature scaling\")"
      ],
      "execution_count": 28,
      "outputs": [
        {
          "output_type": "stream",
          "text": [
            "Performance metrics:\n",
            "Accuracy  : 0.7468348170128586\n",
            "Precision : 0.7663183665660072\n",
            "Recall    : 0.7468348170128586\n",
            "f1 score  : 0.7477448719179032\n",
            "\n",
            "NOTE: Scores have been calculated without scaling the dataset,as Random forest\n",
            "      is a tree based model and does not require feature scaling\n"
          ],
          "name": "stdout"
        }
      ]
    },
    {
      "cell_type": "markdown",
      "metadata": {
        "id": "kjUfHelJ6ZrR",
        "colab_type": "text"
      },
      "source": [
        "\n",
        "\n",
        "---\n",
        "\n"
      ]
    },
    {
      "cell_type": "markdown",
      "metadata": {
        "id": "dKRwnQrp4JTr",
        "colab_type": "text"
      },
      "source": [
        "**EXPERIMENTING WITH OTHER MODELS:**"
      ]
    },
    {
      "cell_type": "code",
      "metadata": {
        "id": "je3K59OxuWOJ",
        "colab_type": "code",
        "outputId": "4f86c5fc-b08f-4c2d-97a5-b2349500d7d2",
        "colab": {
          "base_uri": "https://localhost:8080/",
          "height": 102
        }
      },
      "source": [
        "#Naive Bayes\n",
        "from sklearn.naive_bayes import GaussianNB\n",
        "model_nb = GaussianNB()\n",
        "model_nb.fit(X_train,y_train)\n",
        "pred=model_nb.predict(X_test)\n",
        "\n",
        "performance_metrics(y_test,pred)"
      ],
      "execution_count": 29,
      "outputs": [
        {
          "output_type": "stream",
          "text": [
            "Performance metrics:\n",
            "Accuracy  : 0.6905539070227498\n",
            "Precision : 0.7223434519718748\n",
            "Recall    : 0.6905539070227498\n",
            "f1 score  : 0.6907932699132106\n"
          ],
          "name": "stdout"
        }
      ]
    },
    {
      "cell_type": "code",
      "metadata": {
        "id": "CVYSVx66ChfF",
        "colab_type": "code",
        "outputId": "ad07996d-3afd-4ee8-eda5-e554957b749b",
        "colab": {
          "base_uri": "https://localhost:8080/",
          "height": 102
        }
      },
      "source": [
        "model = RandomForestClassifier(max_depth=40)\n",
        "model_nb = GaussianNB()\n",
        "\n",
        "model_vc = VotingClassifier(estimators=[\n",
        "       ('rf', model), ('gnb', model_nb)],\n",
        "       voting='soft', weights=[2,1],\n",
        "       flatten_transform=True)\n",
        "model_vc = model_vc.fit(X_train, y_train)\n",
        "pred=model_vc.predict(X_test)\n",
        "\n",
        "performance_metrics(y_test,pred)"
      ],
      "execution_count": 30,
      "outputs": [
        {
          "output_type": "stream",
          "text": [
            "Performance metrics:\n",
            "Accuracy  : 0.7442136498516321\n",
            "Precision : 0.7626691256606534\n",
            "Recall    : 0.7442136498516321\n",
            "f1 score  : 0.744930446101379\n"
          ],
          "name": "stdout"
        }
      ]
    }
  ]
}